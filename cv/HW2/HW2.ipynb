{
 "cells": [
  {
   "cell_type": "code",
   "execution_count": 1,
   "metadata": {},
   "outputs": [],
   "source": [
    "import cv2 as cv\n",
    "import numpy as np\n",
    "\n",
    "img = cv.imread('/Users/shawn/cv/cv/practice2/Erica.jpg')\n",
    "resized_img = cv.resize(img, (img.shape[1]//2, img.shape[0]//2))\n",
    "\n",
    "def hue(img):\n",
    "    hsv_img = cv.cvtColor(img, cv.COLOR_BGR2HSV)\n",
    "    hsv_img[:,:,0] =(hsv_img[:,:,0] + 90) % 180\n",
    "    return hsv_img\n",
    "\n",
    "def saturation(img):\n",
    "    hsv_img = cv.cvtColor(img, cv.COLOR_BGR2HSV)\n",
    "    hsv_img[:,:,1] = (hsv_img[:,:,1] * 0.5).clip(0, 255)\n",
    "    return hsv_img\n",
    "\n",
    "def value(img):\n",
    "    hsv_img = cv.cvtColor(img, cv.COLOR_BGR2HSV)\n",
    "    hsv_img[:,:,2] = (hsv_img[:,:,2] * 1.5).clip(0, 255)\n",
    "    return hsv_img\n",
    "\n",
    "img1_hue = hue(resized_img)\n",
    "img1_hue = cv.cvtColor(img1_hue, cv.COLOR_HSV2BGR)\n",
    "\n",
    "img2_saturation = saturation(resized_img)\n",
    "img2_saturation = cv.cvtColor(img2_saturation, cv.COLOR_HSV2BGR)\n",
    "\n",
    "img3_value = value(resized_img)\n",
    "img3_value = cv.cvtColor(img3_value, cv.COLOR_HSV2BGR)\n",
    "\n",
    "top = np.hstack([resized_img,img1_hue])\n",
    "bottom = np.hstack([img2_saturation,img3_value])\n",
    "result = np.vstack([top,bottom])\n",
    "\n",
    "cv.imshow('Modified Image', result)\n",
    "cv.waitKey(0)\n",
    "cv.destroyAllWindows()\n",
    "\n",
    "cv.imwrite('/Users/shawn/cv/cv/practice2/erica_new1.jpg', result)"
   ]
  }
 ],
 "metadata": {
  "kernelspec": {
   "display_name": "ml",
   "language": "python",
   "name": "python3"
  },
  "language_info": {
   "codemirror_mode": {
    "name": "ipython",
    "version": 3
   },
   "file_extension": ".py",
   "mimetype": "text/x-python",
   "name": "python",
   "nbconvert_exporter": "python",
   "pygments_lexer": "ipython3",
   "version": "3.10.13"
  }
 },
 "nbformat": 4,
 "nbformat_minor": 2
}
