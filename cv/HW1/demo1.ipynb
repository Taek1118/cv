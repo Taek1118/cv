{
 "cells": [
  {
   "cell_type": "code",
   "execution_count": 2,
   "metadata": {},
   "outputs": [],
   "source": [
    "import cv2 as cv\n",
    "import sys\n",
    "import numpy as np\n",
    "\n",
    "img = cv.imread('/Users/shawn/cv/cv/practice1/Erica.jpg')\n",
    "\n",
    "if img is None:\n",
    "    sys.exit('Could not read the image.')\n",
    "\n",
    "\n",
    "gray = cv.cvtColor(img,cv.COLOR_BGR2GRAY)\n",
    "color_rect = cv.cvtColor(gray,cv.COLOR_GRAY2BGR)\n",
    "\n",
    "\n",
    "cv.rectangle(color_rect,(100,328),(795,501),(255,0,255),2)\n",
    "cv.putText(color_rect,'2022047710',(27,556),cv.FONT_HERSHEY_SIMPLEX,1,(0,255,0),2)\n",
    "   \n",
    "cv.imshow('color_rect',color_rect)\n",
    "\n",
    "cv.waitKey(0)\n",
    "cv.destroyAllWindows()\n",
    "\n",
    "\n",
    "\n"
   ]
  }
 ],
 "metadata": {
  "kernelspec": {
   "display_name": "ml",
   "language": "python",
   "name": "python3"
  },
  "language_info": {
   "codemirror_mode": {
    "name": "ipython",
    "version": 3
   },
   "file_extension": ".py",
   "mimetype": "text/x-python",
   "name": "python",
   "nbconvert_exporter": "python",
   "pygments_lexer": "ipython3",
   "version": "3.10.13"
  }
 },
 "nbformat": 4,
 "nbformat_minor": 2
}
